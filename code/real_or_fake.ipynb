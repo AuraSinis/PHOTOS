{
 "cells": [
  {
   "cell_type": "code",
   "execution_count": 2,
   "metadata": {
    "scrolled": true
   },
   "outputs": [
    {
     "name": "stderr",
     "output_type": "stream",
     "text": [
      "/Library/Python/anaconda3/lib/python3.7/site-packages/sklearn/utils/deprecation.py:144: FutureWarning: The sklearn.feature_extraction.stop_words module is  deprecated in version 0.22 and will be removed in version 0.24. The corresponding classes / functions should instead be imported from sklearn.feature_extraction.text. Anything that cannot be imported from sklearn.feature_extraction.text is now part of the private API.\n",
      "  warnings.warn(message, FutureWarning)\n"
     ]
    }
   ],
   "source": [
    "import pandas as pd\n",
    "import numpy as np\n",
    "import matplotlib.pyplot as plt\n",
    "import seaborn as sns\n",
    "import datetime\n",
    "from sklearn.linear_model import LogisticRegression\n",
    "from sklearn.model_selection import train_test_split, GridSearchCV\n",
    "from sklearn.pipeline import Pipeline\n",
    "from sklearn.metrics import confusion_matrix, plot_confusion_matrix, classification_report\n",
    "from sklearn.ensemble import RandomForestClassifier, ExtraTreesClassifier\n",
    "from sklearn.feature_extraction.stop_words import ENGLISH_STOP_WORDS as stopwords\n",
    "from sklearn.feature_extraction.text import CountVectorizer, TfidfVectorizer"
   ]
  },
  {
   "cell_type": "markdown",
   "metadata": {},
   "source": [
    "# Load, clean, dress data"
   ]
  },
  {
   "cell_type": "code",
   "execution_count": 3,
   "metadata": {},
   "outputs": [],
   "source": [
    "df1 = pd.read_csv('../data/Fake.csv')\n",
    "df2 = pd.read_csv('../data/True.csv')\n",
    "df1['is_real'] = 0\n",
    "df2['is_real'] = 1\n",
    "df = df1.append(df2)"
   ]
  },
  {
   "cell_type": "code",
   "execution_count": 4,
   "metadata": {},
   "outputs": [
    {
     "data": {
      "text/html": [
       "<div>\n",
       "<style scoped>\n",
       "    .dataframe tbody tr th:only-of-type {\n",
       "        vertical-align: middle;\n",
       "    }\n",
       "\n",
       "    .dataframe tbody tr th {\n",
       "        vertical-align: top;\n",
       "    }\n",
       "\n",
       "    .dataframe thead th {\n",
       "        text-align: right;\n",
       "    }\n",
       "</style>\n",
       "<table border=\"1\" class=\"dataframe\">\n",
       "  <thead>\n",
       "    <tr style=\"text-align: right;\">\n",
       "      <th></th>\n",
       "      <th>title</th>\n",
       "      <th>text</th>\n",
       "      <th>subject</th>\n",
       "      <th>date</th>\n",
       "      <th>is_real</th>\n",
       "    </tr>\n",
       "  </thead>\n",
       "  <tbody>\n",
       "    <tr>\n",
       "      <th>0</th>\n",
       "      <td>Donald Trump Sends Out Embarrassing New Year’...</td>\n",
       "      <td>Donald Trump just couldn t wish all Americans ...</td>\n",
       "      <td>News</td>\n",
       "      <td>December 31, 2017</td>\n",
       "      <td>0</td>\n",
       "    </tr>\n",
       "    <tr>\n",
       "      <th>1</th>\n",
       "      <td>Drunk Bragging Trump Staffer Started Russian ...</td>\n",
       "      <td>House Intelligence Committee Chairman Devin Nu...</td>\n",
       "      <td>News</td>\n",
       "      <td>December 31, 2017</td>\n",
       "      <td>0</td>\n",
       "    </tr>\n",
       "    <tr>\n",
       "      <th>2</th>\n",
       "      <td>Sheriff David Clarke Becomes An Internet Joke...</td>\n",
       "      <td>On Friday, it was revealed that former Milwauk...</td>\n",
       "      <td>News</td>\n",
       "      <td>December 30, 2017</td>\n",
       "      <td>0</td>\n",
       "    </tr>\n",
       "    <tr>\n",
       "      <th>3</th>\n",
       "      <td>Trump Is So Obsessed He Even Has Obama’s Name...</td>\n",
       "      <td>On Christmas day, Donald Trump announced that ...</td>\n",
       "      <td>News</td>\n",
       "      <td>December 29, 2017</td>\n",
       "      <td>0</td>\n",
       "    </tr>\n",
       "    <tr>\n",
       "      <th>4</th>\n",
       "      <td>Pope Francis Just Called Out Donald Trump Dur...</td>\n",
       "      <td>Pope Francis used his annual Christmas Day mes...</td>\n",
       "      <td>News</td>\n",
       "      <td>December 25, 2017</td>\n",
       "      <td>0</td>\n",
       "    </tr>\n",
       "  </tbody>\n",
       "</table>\n",
       "</div>"
      ],
      "text/plain": [
       "                                               title  \\\n",
       "0   Donald Trump Sends Out Embarrassing New Year’...   \n",
       "1   Drunk Bragging Trump Staffer Started Russian ...   \n",
       "2   Sheriff David Clarke Becomes An Internet Joke...   \n",
       "3   Trump Is So Obsessed He Even Has Obama’s Name...   \n",
       "4   Pope Francis Just Called Out Donald Trump Dur...   \n",
       "\n",
       "                                                text subject  \\\n",
       "0  Donald Trump just couldn t wish all Americans ...    News   \n",
       "1  House Intelligence Committee Chairman Devin Nu...    News   \n",
       "2  On Friday, it was revealed that former Milwauk...    News   \n",
       "3  On Christmas day, Donald Trump announced that ...    News   \n",
       "4  Pope Francis used his annual Christmas Day mes...    News   \n",
       "\n",
       "                date  is_real  \n",
       "0  December 31, 2017        0  \n",
       "1  December 31, 2017        0  \n",
       "2  December 30, 2017        0  \n",
       "3  December 29, 2017        0  \n",
       "4  December 25, 2017        0  "
      ]
     },
     "execution_count": 4,
     "metadata": {},
     "output_type": "execute_result"
    }
   ],
   "source": [
    "df.head()"
   ]
  },
  {
   "cell_type": "code",
   "execution_count": 5,
   "metadata": {},
   "outputs": [],
   "source": [
    "df = df[df['date']!= 'https://100percentfedup.com/served-roy-moore-vietnamletter-veteran-sets-record-straight-honorable-decent-respectable-patriotic-commander-soldier/']\n",
    "df = df[df['date']!= 'https://100percentfedup.com/video-hillary-asked-about-trump-i-just-want-to-eat-some-pie/']\n",
    "df = df[df['date']!= 'https://100percentfedup.com/12-yr-old-black-conservative-whose-video-to-obama-went-viral-do-you-really-love-america-receives-death-threats-from-left/']\n",
    "df = df[df['date']!= 'https://fedup.wpengine.com/wp-content/uploads/2015/04/hillarystreetart.jpg']\n",
    "df = df[df['date']!= 'https://fedup.wpengine.com/wp-content/uploads/2015/04/entitled.jpg']\n",
    "df = df[df['date']!= 'MSNBC HOST Rudely Assumes Steel Worker Would Never Let His Son Follow in His Footsteps…He Couldn’t Be More Wrong [Video]']"
   ]
  },
  {
   "cell_type": "code",
   "execution_count": 6,
   "metadata": {
    "scrolled": true
   },
   "outputs": [],
   "source": [
    "df['date'] = pd.to_datetime(df['date'])\n",
    "df['weekday'] = df['date'].dt.weekday"
   ]
  },
  {
   "cell_type": "code",
   "execution_count": 7,
   "metadata": {
    "scrolled": true
   },
   "outputs": [
    {
     "data": {
      "text/plain": [
       "<matplotlib.axes._subplots.AxesSubplot at 0x7ff98b7a8710>"
      ]
     },
     "execution_count": 7,
     "metadata": {},
     "output_type": "execute_result"
    },
    {
     "data": {
      "image/png": "[encoded data removed]",
      "text/plain": [
       "<Figure size 432x288 with 2 Axes>"
      ]
     },
     "metadata": {
      "needs_background": "light"
     },
     "output_type": "display_data"
    }
   ],
   "source": [
    "sns.heatmap(df.corr())"
   ]
  },
  {
   "cell_type": "markdown",
   "metadata": {},
   "source": [
    "I tried to engineer what day of the week an article was published but it seems as if it doesn't correlate."
   ]
  },
  {
   "cell_type": "code",
   "execution_count": 8,
   "metadata": {},
   "outputs": [
    {
     "name": "stdout",
     "output_type": "stream",
     "text": [
      "<class 'pandas.core.frame.DataFrame'>\n",
      "Int64Index: 44888 entries, 0 to 21416\n",
      "Data columns (total 6 columns):\n",
      " #   Column   Non-Null Count  Dtype         \n",
      "---  ------   --------------  -----         \n",
      " 0   title    44888 non-null  object        \n",
      " 1   text     44888 non-null  object        \n",
      " 2   subject  44888 non-null  object        \n",
      " 3   date     44888 non-null  datetime64[ns]\n",
      " 4   is_real  44888 non-null  int64         \n",
      " 5   weekday  44888 non-null  int64         \n",
      "dtypes: datetime64[ns](1), int64(2), object(3)\n",
      "memory usage: 2.4+ MB\n"
     ]
    }
   ],
   "source": [
    "df.info()"
   ]
  },
  {
   "cell_type": "markdown",
   "metadata": {},
   "source": [
    "# EDA"
   ]
  },
  {
   "cell_type": "markdown",
   "metadata": {},
   "source": [
    "most_freq() returns the most common words from the text of all fake and real articles."
   ]
  },
  {
   "cell_type": "code",
   "execution_count": 31,
   "metadata": {},
   "outputs": [],
   "source": [
    "def most_freq(df):\n",
    "    cvec = CountVectorizer(stop_words = 'english')\n",
    "\n",
    "    cvec.fit(df['text'])\n",
    "\n",
    "    X_train = cvec.transform(df['text'])\n",
    "  \n",
    "    X_train_df = pd.DataFrame(X_train.toarray(),\n",
    "                              columns=cvec.get_feature_names())\n",
    "    top_words = {}\n",
    "    for i in X_train_df.columns:\n",
    "        top_words[i] =  X_train_df[i].sum()\n",
    "    return pd.DataFrame(sorted(top_words.items(), key = lambda x: x[1], reverse = True)).head(25)"
   ]
  },
  {
   "cell_type": "code",
   "execution_count": 32,
   "metadata": {},
   "outputs": [],
   "source": [
    "common_fake = most_freq(df1)"
   ]
  },
  {
   "cell_type": "code",
   "execution_count": 33,
   "metadata": {},
   "outputs": [],
   "source": [
    "common_true = most_freq(df2)"
   ]
  },
  {
   "cell_type": "code",
   "execution_count": 34,
   "metadata": {},
   "outputs": [
    {
     "data": {
      "image/png": "[encoded data removed]",
      "text/plain": [
       "<Figure size 1296x504 with 1 Axes>"
      ]
     },
     "metadata": {
      "needs_background": "light"
     },
     "output_type": "display_data"
    }
   ],
   "source": [
    "# code inspired by 4.05 classification metrics\n",
    "plt.figure(figsize = (18, 7))\n",
    "plt.bar(x = common_true[0],\n",
    "        height = common_true[1],\n",
    "        color = 'g',\n",
    "        alpha = 0.6,\n",
    "        label = 'Real news')\n",
    "plt.bar(x = common_fake[0],\n",
    "        height = common_fake[1],\n",
    "        color = 'salmon',\n",
    "        alpha = 0.6,\n",
    "        label = 'Fake news')\n",
    "plt.xticks(rotation=45)\n",
    "plt.ylabel('Word Count')\n",
    "plt.xlabel('Words')\n",
    "plt.title('Common Words Used in Real and Fake News', fontsize=18)\n",
    "plt.legend(fontsize=14);"
   ]
  },
  {
   "cell_type": "markdown",
   "metadata": {},
   "source": [
    "# Modeling"
   ]
  },
  {
   "cell_type": "code",
   "execution_count": 13,
   "metadata": {},
   "outputs": [],
   "source": [
    "\n",
    "X = df['text']\n",
    "y = df['is_real']\n",
    "X_train, X_test, y_train, y_test = train_test_split(X, y, random_state=42, stratify=y)"
   ]
  },
  {
   "cell_type": "code",
   "execution_count": 14,
   "metadata": {},
   "outputs": [
    {
     "data": {
      "text/plain": [
       "(33666,)"
      ]
     },
     "execution_count": 14,
     "metadata": {},
     "output_type": "execute_result"
    }
   ],
   "source": [
    "X_train.shape"
   ]
  },
  {
   "cell_type": "code",
   "execution_count": 15,
   "metadata": {},
   "outputs": [
    {
     "data": {
      "text/plain": [
       "(33666,)"
      ]
     },
     "execution_count": 15,
     "metadata": {},
     "output_type": "execute_result"
    }
   ],
   "source": [
    "y_train.shape"
   ]
  },
  {
   "cell_type": "code",
   "execution_count": 16,
   "metadata": {},
   "outputs": [
    {
     "data": {
      "text/plain": [
       "GridSearchCV(cv=3, error_score=nan,\n",
       "             estimator=Pipeline(memory=None,\n",
       "                                steps=[('vectorizer',\n",
       "                                        TfidfVectorizer(analyzer='word',\n",
       "                                                        binary=False,\n",
       "                                                        decode_error='strict',\n",
       "                                                        dtype=<class 'numpy.float64'>,\n",
       "                                                        encoding='utf-8',\n",
       "                                                        input='content',\n",
       "                                                        lowercase=True,\n",
       "                                                        max_df=1.0,\n",
       "                                                        max_features=None,\n",
       "                                                        min_df=1,\n",
       "                                                        ngram_range=(1, 1),\n",
       "                                                        norm='l2',\n",
       "                                                        preprocessor=None,\n",
       "                                                        smooth_idf=True,\n",
       "                                                        stop_words=None,\n",
       "                                                        stri...\n",
       "                                                           random_state=None,\n",
       "                                                           solver='liblinear',\n",
       "                                                           tol=0.0001,\n",
       "                                                           verbose=0,\n",
       "                                                           warm_start=False))],\n",
       "                                verbose=False),\n",
       "             iid='deprecated', n_jobs=None,\n",
       "             param_grid={'model__C': [10], 'model__max_iter': [1000],\n",
       "                         'model__penalty': ['l2'],\n",
       "                         'vectorizer__ngram_range': [(1, 2)],\n",
       "                         'vectorizer__stop_words': ['english']},\n",
       "             pre_dispatch='2*n_jobs', refit=True, return_train_score=False,\n",
       "             scoring='accuracy', verbose=0)"
      ]
     },
     "execution_count": 16,
     "metadata": {},
     "output_type": "execute_result"
    }
   ],
   "source": [
    "pipe_logreg = Pipeline(steps = [('vectorizer', TfidfVectorizer()),    \n",
    "                         ('model', LogisticRegression(solver=\"liblinear\"))        \n",
    "                        ])    \n",
    "\n",
    "hyperparams = {'vectorizer__ngram_range': [(1,2)],\n",
    "               'vectorizer__stop_words': ['english'],    \n",
    "               'model__penalty': [ 'l2'],\n",
    "               'model__C': [ 10],\n",
    "               'model__max_iter' : [ 1000]\n",
    "              }\n",
    "\n",
    "gs = GridSearchCV(pipe_logreg, \n",
    "                 param_grid=hyperparams,\n",
    "                 cv = 3,\n",
    "                 scoring = 'accuracy')\n",
    "gs.fit(X_train, y_train)"
   ]
  },
  {
   "cell_type": "code",
   "execution_count": 17,
   "metadata": {},
   "outputs": [
    {
     "data": {
      "text/plain": [
       "GridSearchCV(cv=5, error_score=nan,\n",
       "             estimator=Pipeline(memory=None,\n",
       "                                steps=[('vectorizer',\n",
       "                                        TfidfVectorizer(analyzer='word',\n",
       "                                                        binary=False,\n",
       "                                                        decode_error='strict',\n",
       "                                                        dtype=<class 'numpy.float64'>,\n",
       "                                                        encoding='utf-8',\n",
       "                                                        input='content',\n",
       "                                                        lowercase=True,\n",
       "                                                        max_df=1.0,\n",
       "                                                        max_features=None,\n",
       "                                                        min_df=1,\n",
       "                                                        ngram_range=(1, 1),\n",
       "                                                        norm='l2',\n",
       "                                                        preprocessor=None,\n",
       "                                                        smooth_idf=True,\n",
       "                                                        stop_words=None,\n",
       "                                                        stri...\n",
       "                                                               min_weight_fraction_leaf=0.0,\n",
       "                                                               n_estimators=100,\n",
       "                                                               n_jobs=None,\n",
       "                                                               oob_score=False,\n",
       "                                                               random_state=None,\n",
       "                                                               verbose=0,\n",
       "                                                               warm_start=False))],\n",
       "                                verbose=False),\n",
       "             iid='deprecated', n_jobs=None,\n",
       "             param_grid={'model__max_depth': [None],\n",
       "                         'model__n_estimators': [150],\n",
       "                         'vectorizer__stop_words': ['english']},\n",
       "             pre_dispatch='2*n_jobs', refit=True, return_train_score=False,\n",
       "             scoring=None, verbose=0)"
      ]
     },
     "execution_count": 17,
     "metadata": {},
     "output_type": "execute_result"
    }
   ],
   "source": [
    "pipe_rf = Pipeline(steps = [('vectorizer', TfidfVectorizer()),    \n",
    "                         ('model', RandomForestClassifier())        \n",
    "                        ])    \n",
    "\n",
    "hyperparams = {#'vectorizer__ngram_range': [(1,1), (2,2), (1,2)],\n",
    "               'vectorizer__stop_words': ['english'],    \n",
    "               'model__n_estimators': [150],\n",
    "               'model__max_depth': [None]\n",
    "              }\n",
    "\n",
    "rf_gs = GridSearchCV(pipe_rf, \n",
    "                 param_grid=hyperparams,\n",
    "                 cv = 5)\n",
    "rf_gs.fit(X_train, y_train)"
   ]
  },
  {
   "cell_type": "code",
   "execution_count": 18,
   "metadata": {
    "scrolled": true
   },
   "outputs": [
    {
     "data": {
      "text/plain": [
       "{'model__max_depth': None,\n",
       " 'model__n_estimators': 200,\n",
       " 'vectorizer__ngram_range': (1, 1),\n",
       " 'vectorizer__stop_words': 'english'}"
      ]
     },
     "execution_count": 18,
     "metadata": {},
     "output_type": "execute_result"
    }
   ],
   "source": [
    "pipe_et = Pipeline(steps = [('vectorizer', TfidfVectorizer()),    \n",
    "                         ('model', ExtraTreesClassifier())        \n",
    "                        ])    \n",
    "\n",
    "hyperparams = {'vectorizer__ngram_range': [(1,1)],\n",
    "               'vectorizer__stop_words': ['english'],    \n",
    "               'model__n_estimators': [ 200],\n",
    "               'model__max_depth': [None]\n",
    "              }\n",
    "\n",
    "et_gs = GridSearchCV(pipe_et, \n",
    "                 param_grid=hyperparams,\n",
    "                 cv = 5)\n",
    "et_gs.fit(X_train, y_train)\n",
    "\n",
    "et_gs.best_params_"
   ]
  },
  {
   "cell_type": "markdown",
   "metadata": {},
   "source": []
  },
  {
   "cell_type": "markdown",
   "metadata": {},
   "source": [
    "# Model Evaluation"
   ]
  },
  {
   "cell_type": "markdown",
   "metadata": {},
   "source": [
    "Handy little function to return specificity and sensitivity."
   ]
  },
  {
   "cell_type": "code",
   "execution_count": null,
   "metadata": {},
   "outputs": [],
   "source": [
    "\n",
    "\n",
    "def sens_spef_quik(y_true, y_pred):\n",
    "    tn, fp, fn, tp = confusion_matrix(y_true,y_pred).ravel()\n",
    "    sens = tp/(tp+fn)\n",
    "    spef = tn/(tn+fp)\n",
    "    print(f'The sensitivity is: {sens}')\n",
    "    print(f'The specificity is: {spef}')"
   ]
  },
  {
   "cell_type": "code",
   "execution_count": 20,
   "metadata": {},
   "outputs": [
    {
     "data": {
      "text/plain": [
       "{'0': {'precision': 0.9951923076923077,\n",
       "  'recall': 0.9877300613496932,\n",
       "  'f1-score': 0.9914471433458776,\n",
       "  'support': 5868},\n",
       " '1': {'precision': 0.9866617265653946,\n",
       "  'recall': 0.9947702652222637,\n",
       "  'f1-score': 0.9906994047619048,\n",
       "  'support': 5354},\n",
       " 'accuracy': 0.991088932454108,\n",
       " 'macro avg': {'precision': 0.9909270171288511,\n",
       "  'recall': 0.9912501632859785,\n",
       "  'f1-score': 0.9910732740538912,\n",
       "  'support': 11222},\n",
       " 'weighted avg': {'precision': 0.9911223797513442,\n",
       "  'recall': 0.991088932454108,\n",
       "  'f1-score': 0.9910903983468943,\n",
       "  'support': 11222}}"
      ]
     },
     "execution_count": 20,
     "metadata": {},
     "output_type": "execute_result"
    },
    {
     "data": {
      "image/png": "[encoded data removed]",
      "text/plain": [
       "<Figure size 432x288 with 2 Axes>"
      ]
     },
     "metadata": {
      "needs_background": "light"
     },
     "output_type": "display_data"
    }
   ],
   "source": [
    "log_pred = gs.predict(X_test)\n",
    "plot_confusion_matrix(gs,X_test,y_test);\n",
    "classification_report(y_test,log_pred, output_dict=True)"
   ]
  },
  {
   "cell_type": "code",
   "execution_count": 21,
   "metadata": {
    "scrolled": false
   },
   "outputs": [
    {
     "data": {
      "text/plain": [
       "{'0': {'precision': 0.992798353909465,\n",
       "  'recall': 0.9867075664621677,\n",
       "  'f1-score': 0.9897435897435898,\n",
       "  'support': 5868},\n",
       " '1': {'precision': 0.9855287569573283,\n",
       "  'recall': 0.9921553978333956,\n",
       "  'f1-score': 0.988830975428146,\n",
       "  'support': 5354},\n",
       " 'accuracy': 0.9893067189449296,\n",
       " 'macro avg': {'precision': 0.9891635554333966,\n",
       "  'recall': 0.9894314821477816,\n",
       "  'f1-score': 0.9892872825858678,\n",
       "  'support': 11222},\n",
       " 'weighted avg': {'precision': 0.9893300396979394,\n",
       "  'recall': 0.9893067189449296,\n",
       "  'f1-score': 0.9893081827711352,\n",
       "  'support': 11222}}"
      ]
     },
     "execution_count": 21,
     "metadata": {},
     "output_type": "execute_result"
    },
    {
     "data": {
      "image/png": "[encoded data removed]",
      "text/plain": [
       "<Figure size 432x288 with 2 Axes>"
      ]
     },
     "metadata": {
      "needs_background": "light"
     },
     "output_type": "display_data"
    }
   ],
   "source": [
    "rf_pred = rf_gs.predict(X_test)\n",
    "plot_confusion_matrix(rf_gs,X_test,y_test);\n",
    "classification_report(y_test,rf_pred, output_dict=True)"
   ]
  },
  {
   "cell_type": "code",
   "execution_count": 22,
   "metadata": {
    "scrolled": false
   },
   "outputs": [
    {
     "data": {
      "text/plain": [
       "{'0': {'precision': 0.9913359902963091,\n",
       "  'recall': 0.9749488752556237,\n",
       "  'f1-score': 0.9830741472635106,\n",
       "  'support': 5868},\n",
       " '1': {'precision': 0.973032471106219,\n",
       "  'recall': 0.9906611878968995,\n",
       "  'f1-score': 0.9817677001388248,\n",
       "  'support': 5354},\n",
       " 'accuracy': 0.9824451969345928,\n",
       " 'macro avg': {'precision': 0.982184230701264,\n",
       "  'recall': 0.9828050315762615,\n",
       "  'f1-score': 0.9824209237011676,\n",
       "  'support': 11222},\n",
       " 'weighted avg': {'precision': 0.9826034077135483,\n",
       "  'recall': 0.9824451969345928,\n",
       "  'f1-score': 0.9824508432263009,\n",
       "  'support': 11222}}"
      ]
     },
     "execution_count": 22,
     "metadata": {},
     "output_type": "execute_result"
    },
    {
     "data": {
      "image/png": "[encoded data removed]",
      "text/plain": [
       "<Figure size 432x288 with 2 Axes>"
      ]
     },
     "metadata": {
      "needs_background": "light"
     },
     "output_type": "display_data"
    }
   ],
   "source": [
    "et_pred= et_gs.predict(X_test)\n",
    "plot_confusion_matrix(et_gs,X_test,y_test);\n",
    "classification_report(y_test,et_pred, output_dict=True)"
   ]
  },
  {
   "cell_type": "markdown",
   "metadata": {},
   "source": [
    "# Results"
   ]
  },
  {
   "cell_type": "code",
   "execution_count": 23,
   "metadata": {
    "scrolled": false
   },
   "outputs": [
    {
     "name": "stdout",
     "output_type": "stream",
     "text": [
      "Best LR TRAIN set accuracy: 0.9886235370997446\n",
      "Best LR TEST set accuracy: 0.991088932454108\n",
      "The sensitivity is: 0.9947702652222637\n",
      "The specificity is: 0.9877300613496932\n",
      "Best RF TRAIN set accuracy: 0.9894552322890359\n",
      "Best RF TEST set accuracy: 0.9893067189449296\n",
      "The sensitivity is: 0.9921553978333956\n",
      "The specificity is: 0.9867075664621677\n",
      "Best ET TRAIN set accuracy: 0.9810491313833065\n",
      "Best ET TEST set accuracy: 0.9824451969345928\n",
      "The sensitivity is: 0.9906611878968995\n",
      "The specificity is: 0.9749488752556237\n"
     ]
    }
   ],
   "source": [
    "print(f'Best LR TRAIN set accuracy: {gs.best_score_}')\n",
    "print(f'Best LR TEST set accuracy: {gs.score(X_test, y_test)}')\n",
    "sens_spef_quik(y_test,log_pred )\n",
    "print(f'Best RF TRAIN set accuracy: {rf_gs.best_score_}')\n",
    "print(f'Best RF TEST set accuracy: {rf_gs.score(X_test, y_test)}')\n",
    "sens_spef_quik(y_test,rf_pred )\n",
    "print(f'Best ET TRAIN set accuracy: {et_gs.best_score_}')\n",
    "print(f'Best ET TEST set accuracy: {et_gs.score(X_test, y_test)}')\n",
    "sens_spef_quik(y_test,et_pred )"
   ]
  },
  {
   "cell_type": "markdown",
   "metadata": {},
   "source": [
    "| Estimators/Classifiers | Model 1 | Model 2 | Model 3 | Model 4 | Model 5 | Model 6 | Model 7 | Model 8\n",
    "|-|:-:|:-:|:-:|:-:|:-:|:-:|:-:|:-:|\n",
    "| `PorterStemmer()` | X |  |  | X | X | | | |\n",
    "| `CountVectorizer()` | X | X |  |  |  | | | |\n",
    "| `TfidfVectorizer()` |  |  | X | X | X | X | X | X |\n",
    "| `LogisticRegression()` | X | X | X | X |  | X | | |\n",
    "| `RandomForestClassifier()` |  |  |  |  | X | | X | |\n",
    "| `ExtraTreesClassifier()` | | | | | | | | X|\n",
    "| `Title as Feature` | X | X | X | X | X | | | |\n",
    "| `Text as Feature`| | | | | | X | X | X |\n",
    "| Train Score: | 0.9849 | 0.9840 | 0.9505 | 0.9563 | 0.9504 | 0.9886 | 0.9895 | 0.9819|\n",
    "| Test Score: | **0.9660** | 0.9529 | 0.9588 | 0.9643 | 0.9623 | 0.9910 | 0.9893 | 0.9824 |\n",
    "**Hyperparameters used in best score:**\n",
    "| Estimator/Transformer | Hyperparameter | Set to: |\n",
    "|-|-|-|\n",
    "| `TfidVectorizer()` | `stop_words` | `english` |\n",
    "| `LogisticRegression()` | `max_iter` | 1000 |\n",
    "| `LogisticRegression()` | `solver` | `liblinear` |"
   ]
  },
  {
   "cell_type": "code",
   "execution_count": null,
   "metadata": {},
   "outputs": [],
   "source": []
  }
 ],
 "metadata": {
  "kernelspec": {
   "display_name": "Python 3",
   "language": "python",
   "name": "python3"
  },
  "language_info": {
   "codemirror_mode": {
    "name": "ipython",
    "version": 3
   },
   "file_extension": ".py",
   "mimetype": "text/x-python",
   "name": "python",
   "nbconvert_exporter": "python",
   "pygments_lexer": "ipython3",
   "version": "3.7.4"
  }
 },
 "nbformat": 4,
 "nbformat_minor": 4
}
